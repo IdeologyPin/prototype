{
 "cells": [
  {
   "cell_type": "code",
   "execution_count": 3,
   "metadata": {
    "collapsed": false
   },
   "outputs": [],
   "source": [
    "from pygate import *\n",
    "from pygate.ext.google_nlp import SentimentAnalyserPR\n",
    "from pygate.ext.spacy_io import SpacyDoc\n",
    "from pygate.ext.textacy import KeyTermAnnotatorPR\n",
    "from pygate.prs import SPMRulePR\n",
    "from pygate.ext.relegence_nlp import RelEntityTagger"
   ]
  },
  {
   "cell_type": "code",
   "execution_count": 6,
   "metadata": {
    "collapsed": false
   },
   "outputs": [],
   "source": [
    "# from app.model import Clustering\n",
    "# from app.tasks.clustering.clustering_method import ClusteringMethod\n",
    "class ArticleCollection(DataSource):\n",
    "\n",
    "    def __init__(self, collection_id, query=[]):\n",
    "        '''\n",
    "        :param query: set of keyword args for querying the docs\n",
    "        '''\n",
    "        self.query=query\n",
    "\n",
    "    def get_articles(self):\n",
    "        raise NotImplemented()\n",
    "\n",
    "    def iter_docs(self):\n",
    "        raise NotImplemented()\n",
    "        \n",
    "class StoryCollection(ArticleCollection):\n",
    "\n",
    "    def __init__(self, story_id):\n",
    "        self.story_id=story_id\n",
    "        self.collection_id=story_id\n",
    "\n",
    "    def get_articles(self):\n",
    "        rs=RelegenceService()\n",
    "        return rs.get_articles_by_story(self.story_id)\n",
    "\n",
    "    def process(self,doc):\n",
    "        pass\n",
    "\n",
    "    def iter_docs(self):\n",
    "        articles=self.get_articles()\n",
    "        for a in articles:\n",
    "            sdoc=SpacyDoc(a.text)\n",
    "            sdoc['mongo']= a\n",
    "            sdoc[\"id\"] = a.article_id\n",
    "            sdoc[\"title\"] = a.title\n",
    "            sdoc['url']=a.link\n",
    "            yield sdoc"
   ]
  },
  {
   "cell_type": "code",
   "execution_count": 5,
   "metadata": {
    "collapsed": true
   },
   "outputs": [],
   "source": [
    "class DuplicateClearingPR(PR):\n",
    "    def __init__(self):\n",
    "        self.examined_titles = set()\n",
    "\n",
    "    def process(self, doc):\n",
    "        '''\n",
    "        :type SpacyDoc\n",
    "        :param doc:\n",
    "        :return:\n",
    "        '''\n",
    "        title = doc[\"title\"]\n",
    "        doc.sents\n",
    "        if title in self.examined_titles:\n",
    "            raise ValueError(\"Duplicate Article: title\"+title)\n",
    "        self.examined_titles.add(title)\n",
    "\n",
    "\n",
    "\n",
    "class CustomFeatureExtractor(PR):\n",
    "\n",
    "    def process(self,doc):\n",
    "        '''\n",
    "        :type doc SpacyDoc\n",
    "        :param doc:\n",
    "        :return:\n",
    "        '''\n",
    "        for kt in doc['KeyTerm']:\n",
    "            sents=doc.query_overlappedby_y(kt, 'Sentence')\n",
    "            s=sents[0] #type: Annotation\n",
    "            s.add_relation('key_term', kt)\n",
    "            s.set_feature('key_terms', s.get_relation('key_term'))\n",
    "\n",
    "\n",
    "class SentimentHighlighter(PR):\n",
    "\n",
    "    def process(self,doc):\n",
    "        '''\n",
    "        :type doc SpacyDoc\n",
    "        :param doc:\n",
    "        :return:\n",
    "        '''\n",
    "        THRESHOLD=0.6\n",
    "\n",
    "        pos=[]\n",
    "        neg=[]\n",
    "        for sent in doc.sents:\n",
    "            if 'gs_score' in sent.features:\n",
    "                score=sent.get_feature('gs_score')\n",
    "                if score>THRESHOLD:\n",
    "                    ann=Annotation(sent.text, sent.tStart, sent.tEnd, sent.cStart, sent.cEnd, 'PosSentiment',doc)\n",
    "                    pos.append(ann)\n",
    "                elif score< -1*THRESHOLD:\n",
    "                    ann = Annotation(sent.text, sent.tStart, sent.tEnd, sent.cStart, sent.cEnd, 'NegSentiment', doc)\n",
    "                    neg.append(ann)\n",
    "\n",
    "        doc.set_annotation_set('PosSentiment', pos)\n",
    "        doc.set_annotation_set('NegSentiment', neg)\n",
    "\n",
    "class BratEmbeddingToMongoPR(PR):\n",
    "\n",
    "    def __init__(self, anno_types):\n",
    "        self.anno_types=anno_types\n",
    "\n",
    "    def process(self,doc):\n",
    "        art=doc['mongo']\n",
    "        id=0\n",
    "        art.entities=[]\n",
    "        for anno_type in self.anno_types:\n",
    "            if anno_type in doc:\n",
    "                annots=doc[anno_type]\n",
    "                for a in annots:\n",
    "                    id+=1\n",
    "                    art.entities.append(['T'+str(id), anno_type, [[a.cStart, a.cEnd]]])\n",
    "        art.save()\n",
    "\n",
    "def run_fv_generation_method(articles_collection):\n",
    "    ann_store = AnnotationStore('Sentence')\n",
    "    doc_store = DocumentStore('~')\n",
    "\n",
    "    prs = [\n",
    "        DuplicateClearingPR(),\n",
    "        SentimentAnalyserPR('Sentence'),\n",
    "        SentimentHighlighter(),\n",
    "        KeyTermAnnotatorPR(),\n",
    "        RelEntityTagger(),\n",
    "        CustomFeatureExtractor(),\n",
    "        BratEmbeddingToMongoPR(['KeyTerm', 'PosSentiment', 'NegSentiment', 'Entity']),\n",
    "        ann_store, doc_store]\n",
    "\n",
    "    pipe = Pipeline()\n",
    "    pipe.setPRs(prs).setCorpus(articles_collection)\n",
    "\n",
    "    result=pipe.process(5)\n",
    "    for a in ann_store.annots:\n",
    "        pass"
   ]
  },
  {
   "cell_type": "code",
   "execution_count": 7,
   "metadata": {
    "collapsed": false
   },
   "outputs": [
    {
     "ename": "ApplicationDefaultCredentialsError",
     "evalue": "The Application Default Credentials are not available. They are available if running in Google Compute Engine. Otherwise, the environment variable GOOGLE_APPLICATION_CREDENTIALS must be defined pointing to a file defining the credentials. See https://developers.google.com/accounts/docs/application-default-credentials for more information.",
     "traceback": [
      "\u001b[0;31m---------------------------------------------------------------------------\u001b[0m",
      "\u001b[0;31mApplicationDefaultCredentialsError\u001b[0m        Traceback (most recent call last)",
      "\u001b[0;32m<ipython-input-7-92154c200bfb>\u001b[0m in \u001b[0;36m<module>\u001b[0;34m()\u001b[0m\n\u001b[0;32m----> 1\u001b[0;31m \u001b[0mrun_fv_generation_method\u001b[0m\u001b[0;34m(\u001b[0m\u001b[0mStoryCollection\u001b[0m\u001b[0;34m(\u001b[0m\u001b[0mstory_id\u001b[0m\u001b[0;34m=\u001b[0m\u001b[0;34m'773932258236952576'\u001b[0m\u001b[0;34m)\u001b[0m\u001b[0;34m)\u001b[0m\u001b[0;34m\u001b[0m\u001b[0m\n\u001b[0m",
      "\u001b[0;32m<ipython-input-5-f73ea3ef185f>\u001b[0m in \u001b[0;36mrun_fv_generation_method\u001b[0;34m(articles_collection)\u001b[0m\n\u001b[1;32m     80\u001b[0m     prs = [\n\u001b[1;32m     81\u001b[0m         \u001b[0mDuplicateClearingPR\u001b[0m\u001b[0;34m(\u001b[0m\u001b[0;34m)\u001b[0m\u001b[0;34m,\u001b[0m\u001b[0;34m\u001b[0m\u001b[0m\n\u001b[0;32m---> 82\u001b[0;31m         \u001b[0mSentimentAnalyserPR\u001b[0m\u001b[0;34m(\u001b[0m\u001b[0;34m'Sentence'\u001b[0m\u001b[0;34m)\u001b[0m\u001b[0;34m,\u001b[0m\u001b[0;34m\u001b[0m\u001b[0m\n\u001b[0m\u001b[1;32m     83\u001b[0m         \u001b[0mSentimentHighlighter\u001b[0m\u001b[0;34m(\u001b[0m\u001b[0;34m)\u001b[0m\u001b[0;34m,\u001b[0m\u001b[0;34m\u001b[0m\u001b[0m\n\u001b[1;32m     84\u001b[0m         \u001b[0mKeyTermAnnotatorPR\u001b[0m\u001b[0;34m(\u001b[0m\u001b[0;34m)\u001b[0m\u001b[0;34m,\u001b[0m\u001b[0;34m\u001b[0m\u001b[0m\n",
      "\u001b[0;32m/Users/sasinda/CMProject/pygate/pygate/ext/google_nlp/google_nlp_prs.pyc\u001b[0m in \u001b[0;36m__init__\u001b[0;34m(self, level)\u001b[0m\n\u001b[1;32m     24\u001b[0m     \u001b[0;32mdef\u001b[0m \u001b[0m__init__\u001b[0m\u001b[0;34m(\u001b[0m\u001b[0mself\u001b[0m\u001b[0;34m,\u001b[0m \u001b[0mlevel\u001b[0m\u001b[0;34m)\u001b[0m\u001b[0;34m:\u001b[0m\u001b[0;34m\u001b[0m\u001b[0m\n\u001b[1;32m     25\u001b[0m         \u001b[0mself\u001b[0m\u001b[0;34m.\u001b[0m\u001b[0mlevel\u001b[0m \u001b[0;34m=\u001b[0m \u001b[0mlevel\u001b[0m\u001b[0;34m\u001b[0m\u001b[0m\n\u001b[0;32m---> 26\u001b[0;31m         \u001b[0mself\u001b[0m\u001b[0;34m.\u001b[0m\u001b[0mservice\u001b[0m \u001b[0;34m=\u001b[0m \u001b[0mget_google_service\u001b[0m\u001b[0;34m(\u001b[0m\u001b[0;34m)\u001b[0m\u001b[0;34m\u001b[0m\u001b[0m\n\u001b[0m\u001b[1;32m     27\u001b[0m \u001b[0;34m\u001b[0m\u001b[0m\n\u001b[1;32m     28\u001b[0m     \u001b[0;32mdef\u001b[0m \u001b[0mprocess\u001b[0m\u001b[0;34m(\u001b[0m\u001b[0mself\u001b[0m\u001b[0;34m,\u001b[0m \u001b[0mdoc\u001b[0m\u001b[0;34m)\u001b[0m\u001b[0;34m:\u001b[0m\u001b[0;34m\u001b[0m\u001b[0m\n",
      "\u001b[0;32m/Users/sasinda/CMProject/pygate/pygate/ext/google_nlp/google_nlp_prs.pyc\u001b[0m in \u001b[0;36mget_google_service\u001b[0;34m()\u001b[0m\n\u001b[1;32m     12\u001b[0m         \u001b[0mto\u001b[0m \u001b[0minitialize\u001b[0m \u001b[0mgooglecredentials\u001b[0m\u001b[0;34m\u001b[0m\u001b[0m\n\u001b[1;32m     13\u001b[0m     \"\"\"\n\u001b[0;32m---> 14\u001b[0;31m     \u001b[0mcredentials\u001b[0m \u001b[0;34m=\u001b[0m \u001b[0mGoogleCredentials\u001b[0m\u001b[0;34m.\u001b[0m\u001b[0mget_application_default\u001b[0m\u001b[0;34m(\u001b[0m\u001b[0;34m)\u001b[0m\u001b[0;34m\u001b[0m\u001b[0m\n\u001b[0m\u001b[1;32m     15\u001b[0m     scoped_credentials = credentials.create_scoped(\n\u001b[1;32m     16\u001b[0m         ['https://www.googleapis.com/auth/cloud-platform'])\n",
      "\u001b[0;32m/Users/sasinda/anaconda/lib/python2.7/site-packages/oauth2client/client.pyc\u001b[0m in \u001b[0;36mget_application_default\u001b[0;34m()\u001b[0m\n\u001b[1;32m   1286\u001b[0m                                                 \u001b[0mfail\u001b[0m \u001b[0mto\u001b[0m \u001b[0mbe\u001b[0m \u001b[0mretrieved\u001b[0m\u001b[0;34m.\u001b[0m\u001b[0;34m\u001b[0m\u001b[0m\n\u001b[1;32m   1287\u001b[0m         \"\"\"\n\u001b[0;32m-> 1288\u001b[0;31m         \u001b[0;32mreturn\u001b[0m \u001b[0mGoogleCredentials\u001b[0m\u001b[0;34m.\u001b[0m\u001b[0m_get_implicit_credentials\u001b[0m\u001b[0;34m(\u001b[0m\u001b[0;34m)\u001b[0m\u001b[0;34m\u001b[0m\u001b[0m\n\u001b[0m\u001b[1;32m   1289\u001b[0m \u001b[0;34m\u001b[0m\u001b[0m\n\u001b[1;32m   1290\u001b[0m     \u001b[0;34m@\u001b[0m\u001b[0mstaticmethod\u001b[0m\u001b[0;34m\u001b[0m\u001b[0m\n",
      "\u001b[0;32m/Users/sasinda/anaconda/lib/python2.7/site-packages/oauth2client/client.pyc\u001b[0m in \u001b[0;36m_get_implicit_credentials\u001b[0;34m(cls)\u001b[0m\n\u001b[1;32m   1276\u001b[0m \u001b[0;34m\u001b[0m\u001b[0m\n\u001b[1;32m   1277\u001b[0m         \u001b[0;31m# If no credentials, fail.\u001b[0m\u001b[0;34m\u001b[0m\u001b[0;34m\u001b[0m\u001b[0m\n\u001b[0;32m-> 1278\u001b[0;31m         \u001b[0;32mraise\u001b[0m \u001b[0mApplicationDefaultCredentialsError\u001b[0m\u001b[0;34m(\u001b[0m\u001b[0mADC_HELP_MSG\u001b[0m\u001b[0;34m)\u001b[0m\u001b[0;34m\u001b[0m\u001b[0m\n\u001b[0m\u001b[1;32m   1279\u001b[0m \u001b[0;34m\u001b[0m\u001b[0m\n\u001b[1;32m   1280\u001b[0m     \u001b[0;34m@\u001b[0m\u001b[0mstaticmethod\u001b[0m\u001b[0;34m\u001b[0m\u001b[0m\n",
      "\u001b[0;31mApplicationDefaultCredentialsError\u001b[0m: The Application Default Credentials are not available. They are available if running in Google Compute Engine. Otherwise, the environment variable GOOGLE_APPLICATION_CREDENTIALS must be defined pointing to a file defining the credentials. See https://developers.google.com/accounts/docs/application-default-credentials for more information."
     ],
     "output_type": "error"
    }
   ],
   "source": [
    "run_fv_generation_method(StoryCollection(story_id='773932258236952576'))"
   ]
  },
  {
   "cell_type": "code",
   "execution_count": null,
   "metadata": {
    "collapsed": true
   },
   "outputs": [],
   "source": [
    ""
   ]
  }
 ],
 "metadata": {
  "anaconda-cloud": {},
  "kernelspec": {
   "display_name": "Python [Root]",
   "language": "python",
   "name": "Python [Root]"
  },
  "language_info": {
   "codemirror_mode": {
    "name": "ipython",
    "version": 2.0
   },
   "file_extension": ".py",
   "mimetype": "text/x-python",
   "name": "python",
   "nbconvert_exporter": "python",
   "pygments_lexer": "ipython2",
   "version": "2.7.12"
  }
 },
 "nbformat": 4,
 "nbformat_minor": 0
}