{
 "cells": [
  {
   "cell_type": "code",
   "execution_count": 1,
   "metadata": {},
   "outputs": [],
   "source": [
    "import requests\n",
    "import json"
   ]
  },
  {
   "cell_type": "code",
   "execution_count": 2,
   "metadata": {},
   "outputs": [],
   "source": [
    "API_KEY = 'V7lmZgPn7NGdEYSp9DGA8l1AsK5zRy8I'\n",
    "#specifies the subject of the article. this one is for gun control\n",
    "SUBJECT_ID = '4941756'\n",
    "#the subject must match the article with a least a score of the min_score\n",
    "MIN_SCORE = '0.7'\n",
    "#time range\n",
    "DAYS_BACK = '120' \n",
    "NUM_ARTICLES = '20'\n",
    "\n",
    "##orberBy=magScore"
   ]
  },
  {
   "cell_type": "code",
   "execution_count": 8,
   "metadata": {},
   "outputs": [],
   "source": [
    "r = requests.get('http://api.relegence.com/trending/4941756?lastActivityDaysBack=0&creationDaysBack=\\\n",
    "                    0&minScore=0.7&count=20&docsPerTopic=5&orberBy=magScore&apikey=' + API_KEY)"
   ]
  },
  {
   "cell_type": "markdown",
   "metadata": {},
   "source": [
    "#### About data\n",
    "results json:\n",
    "'_id' = Story ID. A cluster of articles specifying the same story. To get all the stories from a Story ID you call the same API just with the Story ID instead of the Subject ID.\n",
    "\n",
    "[u'alphaDocs',\n",
    " u'relatedEntity',\n",
    " u'facebookShares',\n",
    " u'title',\n",
    " u'lastTopicActivityTime',\n",
    " u'facebookLikes',\n",
    " u'topicCreationTime',\n",
    " u'heat',\n",
    " u'relatedSubject',\n",
    " u'facebookComments',\n",
    " u'avgAccessTime',\n",
    " u'twitterRetweets',\n",
    " u'magScore',\n",
    " u'numDocs',\n",
    " u'_id',\n",
    " u'numSources']"
   ]
  },
  {
   "cell_type": "code",
   "execution_count": 7,
   "metadata": {},
   "outputs": [],
   "source": [
    "r2 = requests.get('http://api.relegence.com/trending/topic/documents/91485332?apikey=V7lmZgPn7NGdEYSp9DGA8l1AsK5zRy8I&onlyOnO=false&count=100')"
   ]
  },
  {
   "cell_type": "code",
   "execution_count": 8,
   "metadata": {},
   "outputs": [],
   "source": [
    "data2 = r2.json()"
   ]
  },
  {
   "cell_type": "code",
   "execution_count": 10,
   "metadata": {},
   "outputs": [
    {
     "data": {
      "text/plain": [
       "u'http://wrbl.com/ap/obama-initiative-on-gun-control-shows-limits-of-acting-alone/'"
      ]
     },
     "execution_count": 10,
     "output_type": "execute_result",
     "metadata": {}
    }
   ],
   "source": [
    "data2[0]['guid']"
   ]
  },
  {
   "cell_type": "markdown",
   "metadata": {},
   "source": [
    "### Whole content dataset"
   ]
  },
  {
   "cell_type": "code",
   "execution_count": 8,
   "metadata": {},
   "outputs": [],
   "source": [
    "#construct request string based on \n",
    "# http://stage.api.relegence.com/stories/91485332?apikey=V7lmZgPn7NGdEYSp9DGA8l1AsK5zRy8I&withDocs=true\n",
    "#beg + subjectid+ '?apikey=' + apikey + '&withDocs=true'\n",
    "SUBJECT_ID = '91485332' #other subject_ids don't work\n",
    "count = 30\n",
    "content_request = 'http://stage.api.relegence.com/stories/' + SUBJECT_ID + '?apikey=' + API_KEY + '&withDocs=true'"
   ]
  },
  {
   "cell_type": "code",
   "execution_count": 9,
   "metadata": {},
   "outputs": [],
   "source": [
    "test = 'http://stage.api.relegence.com/stories/91485332?apikey=V7lmZgPn7NGdEYSp9DGA8l1AsK5zRy8I&withDocs=true'"
   ]
  },
  {
   "cell_type": "code",
   "execution_count": 10,
   "metadata": {},
   "outputs": [
    {
     "data": {
      "text/plain": [
       "True"
      ]
     },
     "execution_count": 10,
     "output_type": "execute_result",
     "metadata": {}
    }
   ],
   "source": [
    "test == content_request"
   ]
  },
  {
   "cell_type": "code",
   "execution_count": 6,
   "metadata": {},
   "outputs": [
    {
     "data": {
      "text/plain": [
       "'http://stage.api.relegence.com/stories/91485332?apikey=V7lmZgPn7NGdEYSp9DGA8l1AsK5zRy8I&withDocs=true&count=30'"
      ]
     },
     "execution_count": 6,
     "output_type": "execute_result",
     "metadata": {}
    }
   ],
   "source": [
    "content_request"
   ]
  },
  {
   "cell_type": "code",
   "execution_count": 7,
   "metadata": {},
   "outputs": [
    {
     "data": {
      "text/plain": [
       "'http://stage.api.relegence.com/stories/91485332?apikey=V7lmZgPn7NGdEYSp9DGA8l1AsK5zRy8I&withDocs=true'"
      ]
     },
     "execution_count": 7,
     "output_type": "execute_result",
     "metadata": {}
    }
   ],
   "source": [
    "test"
   ]
  },
  {
   "cell_type": "code",
   "execution_count": 11,
   "metadata": {},
   "outputs": [],
   "source": [
    "cont = requests.get(content_request)"
   ]
  },
  {
   "cell_type": "code",
   "execution_count": 12,
   "metadata": {},
   "outputs": [],
   "source": [
    "cont = cont.json()"
   ]
  },
  {
   "cell_type": "code",
   "execution_count": 13,
   "metadata": {},
   "outputs": [
    {
     "data": {
      "text/plain": [
       "[u'lastUpdate',\n",
       " u'facebookShares',\n",
       " u'title',\n",
       " u'facebookLikes',\n",
       " u'numOriginalDocs',\n",
       " u'creationTime',\n",
       " u'socialDistPercentage',\n",
       " u'relatedTags',\n",
       " u'facebookComments',\n",
       " u'avgAccessTime',\n",
       " u'twitterRetweets',\n",
       " u'magScore',\n",
       " u'articles',\n",
       " u'numTotalDocs',\n",
       " u'id']"
      ]
     },
     "execution_count": 13,
     "output_type": "execute_result",
     "metadata": {}
    }
   ],
   "source": [
    "cont.keys()"
   ]
  },
  {
   "cell_type": "code",
   "execution_count": 14,
   "metadata": {},
   "outputs": [
    {
     "data": {
      "text/plain": [
       "10"
      ]
     },
     "execution_count": 14,
     "output_type": "execute_result",
     "metadata": {}
    }
   ],
   "source": [
    "len(cont['articles'])"
   ]
  },
  {
   "cell_type": "code",
   "execution_count": 15,
   "metadata": {},
   "outputs": [
    {
     "data": {
      "text/plain": [
       "1536"
      ]
     },
     "execution_count": 15,
     "output_type": "execute_result",
     "metadata": {}
    }
   ],
   "source": [
    "#i think this means that this topic should have 1536 total documents but above says it only has 10\n",
    "cont['numTotalDocs']"
   ]
  },
  {
   "cell_type": "code",
   "execution_count": 16,
   "metadata": {},
   "outputs": [
    {
     "data": {
      "text/plain": [
       "[u'lang',\n",
       " u'content',\n",
       " u'updated',\n",
       " u'title',\n",
       " u'media',\n",
       " u'published',\n",
       " u'snippet',\n",
       " u'source',\n",
       " u'link',\n",
       " u'provider',\n",
       " u'crawled_ts',\n",
       " u'license_id',\n",
       " u'guid',\n",
       " u'id']"
      ]
     },
     "execution_count": 16,
     "output_type": "execute_result",
     "metadata": {}
    }
   ],
   "source": [
    "cont['articles'][0].keys()"
   ]
  },
  {
   "cell_type": "code",
   "execution_count": 17,
   "metadata": {},
   "outputs": [
    {
     "data": {
      "text/plain": [
       "{u'id': u'O0RetC'}"
      ]
     },
     "execution_count": 17,
     "output_type": "execute_result",
     "metadata": {}
    }
   ],
   "source": [
    "cont['articles'][0]['source']"
   ]
  },
  {
   "cell_type": "code",
   "execution_count": 133,
   "metadata": {},
   "outputs": [
    {
     "data": {
      "text/plain": [
       "{u'content': u'WASHINGTON (AP) - President Barack Obama\\'s plan to strengthen controls on guns in the U.S. is meeting swift resistance from gun rights groups, Republicans and even a few Democrats who say it\\'s up to Congress to enact new policies on firearms. Yet the overall effect on gun violence could prove to be relatively small. \\nSome questions and answers about Obama\\'s presidential actions on gun control: \\nWHAT ACTION IS OBAMA TAKING? \\nObama announced a 10-point plan to try to keep guns from people who shouldn\\'t have them. The centerpiece is new federal guidance that seeks to clarify who is \"in the business\" of selling firearms and has to get a federal license. \\nLicensed dealers must run background checks on prospective buyers, but private sellers don\\'t. Obama is aiming to narrow that loophole so that more firearms sold at gun shows, flea markets or online are subject to background checks. \\nOther steps include 230 new examiners the FBI will hire to process background checks. And Obama is directing federal agencies to research smart gun technology to reduce accidental shootings and asking Congress for $500 million for mental health care. Further steps aim to better track lost guns and prevent trusts or corporations from buying dangerous weapons without background checks. \\nI SELL A FEW GUNS FROM TIME TO TIME. DO I NEED TO REGISTER? \\nThere\\'s no cut-and-dry answer. \\nThe new guidance says if your \"principal motive\" is profit, you\\'re a dealer, but if you occasionally sell guns from your personal collection, you\\'re not. Someone who only sells at gun shows or online can still be a dealer. \\nThere\\'s no specific number of guns that triggers a requirement to register. But the Justice Department is warning sellers that courts have convicted people for dealing without a license even when they\\'ve sold as few as two guns. \\nIt\\'s up to individuals to look at the guidance and determine whether they need a license. The penalties for making the wrong call are steep: up to five years in prison and a fine of up to $250,000 for those who deal firearms without a license. If you\\'re not sure, you can contact the Bureau of Alcohol, Tobacco, Firearms and Explosives. \\nWOULD THIS HAVE STOPPED RECENT MASS SHOOTINGS? \\nAn Associated Press review shows that Obama\\'s executive actions would have had no impact in keeping weapons from suspects in several of the deadliest incidents, including Newtown, Connecticut; San Bernardino, California; and Aurora, Colorado. The shooters in Newtown and San Bernardino, for example, used weapons purchased by other people. \\nObama\\'s actions could potentially reduce other gun deaths - especially suicides, which cause two-thirds of gun deaths. But it\\'s unclear whether the steps will significantly curb unregulated gun sales. \\nMillions of guns are sold annually in informal settings outside of gun shops, including many through private sales arranged online. The Obama administration acknowledged it couldn\\'t quantify how many gun sales would be newly subjected to background checks. Nor could it say how many currently unregistered gun sellers would have to obtain a license. \\nObama is running out of time. With barely a year left in his presidency, he has to act quickly to roll out new policies, especially if he wants them to become ingrained and harder to rescind when the next president takes over. \\nAfter the Newtown shooting, Obama in 2013 sought far-reaching, bipartisan legislation that went beyond background checks to ban certain assault-style weapons and cap the size of ammunition clips. When the effort collapsed in the Senate, the White House said it was working to identify every legal step he could take on his own. \\nBut a more recent spate of gun-related atrocities, including in San Bernardino, California, spurred the administration to give the issue another look. \\nCAN THE PRESIDENT DO THIS ALONE? \\nObama says he can. Republicans and gun rights advocates say he can\\'t. \\nThe White House says Obama is acting fully within his legal authority, by clarifying existing laws that Congress has already passed. It\\'s an argument Obama has used before when opposition in Congress has led him to take sweeping executive action on immigration, climate change and other issues. \\nStill, Obama readily concedes the executive steps will be challenged in court. One likely option for opponents is to challenge Obama\\'s authority to define what it means to be \"engaged in the business\" of selling guns, since that definition isn\\'t laid out in the law. \\n',\n",
       " u'crawled_ts': 1452108760565504000,\n",
       " u'guid': u'http://www.wsfa.com/story/30895056/questions-and-answers-about-obamas-executive-plan-on-guns',\n",
       " u'id': u'O0RetC/1452108760565504000',\n",
       " u'lang': u'en',\n",
       " u'license_id': u'16',\n",
       " u'link': u'http://www.wsfa.com/story/30895056/questions-and-answers-about-obamas-executive-plan-on-guns',\n",
       " u'media': {u'images': [{u'alternate_sizes': [],\n",
       "    u'anchor_url': None,\n",
       "    u'caption': None,\n",
       "    u'credit': None,\n",
       "    u'extracted_from_html': None,\n",
       "    u'headline': None,\n",
       "    u'height': 221.0,\n",
       "    u'media_medium': u'image',\n",
       "    u'original_markup': None,\n",
       "    u'provider': u'OpenGraph',\n",
       "    u'provider_asset_id': None,\n",
       "    u'tags': [],\n",
       "    u'title': None,\n",
       "    u'url': u'http://apmobile.images.worldnow.com/images/9589102_G.jpg',\n",
       "    u'width': 360.0}]},\n",
       " u'provider': None,\n",
       " u'published': u'2016-01-06T19:25:48.352000+00:00',\n",
       " u'snippet': u\"WASHINGTON (AP) - President Barack Obama's plan to strengthen controls on guns in the U.S. is meeting swift resistance from gun rights groups, Republicans and even a few Democrats who say it's up to Congress to enact new policies on firearms. \",\n",
       " u'source': {u'id': u'O0RetC'},\n",
       " u'title': u\"Questions and answers about Obama's executive plan on guns\",\n",
       " u'updated': u'2016-01-06T19:25:48.352000+00:00'}"
      ]
     },
     "execution_count": 133,
     "output_type": "execute_result",
     "metadata": {}
    }
   ],
   "source": [
    "cont['articles'][0]"
   ]
  },
  {
   "cell_type": "code",
   "execution_count": 20,
   "metadata": {},
   "outputs": [],
   "source": [
    "#this takes the json response from the api and returns article content, title, and author\n",
    "\n",
    "def get_sentences(content):\n",
    "    articles = []\n",
    "    for article in cont['articles']:\n",
    "        art_dic = {}\n",
    "        art_dic['content'] = article['content']\n",
    "        art_dic['title'] = article['title']\n",
    "        art_dic['source'] = article['source']\n",
    "        articles.append(art_dic)\n",
    "    return articles"
   ]
  },
  {
   "cell_type": "code",
   "execution_count": 21,
   "metadata": {},
   "outputs": [],
   "source": [
    "articles = get_sentences(cont)"
   ]
  },
  {
   "cell_type": "code",
   "execution_count": 27,
   "metadata": {},
   "outputs": [],
   "source": [
    "from nltk.stem import WordNetLemmatizer\n",
    "wordnet_lemmatizer = WordNetLemmatizer()"
   ]
  },
  {
   "cell_type": "code",
   "execution_count": 31,
   "metadata": {},
   "outputs": [
    {
     "name": "stdout",
     "output_type": "stream",
     "text": [
      "Questions\n",
      "and\n",
      "answer\n",
      "about\n",
      "Obama's\n",
      "executive\n",
      "plan\n",
      "on\n",
      "gun\n"
     ]
    }
   ],
   "source": [
    "for word in test:\n",
    "    print wordnet_lemmatizer.lemmatize(word)"
   ]
  },
  {
   "cell_type": "code",
   "execution_count": 32,
   "metadata": {},
   "outputs": [
    {
     "name": "stdout",
     "output_type": "stream",
     "text": [
      "Question\n",
      "and\n",
      "answer\n",
      "about\n",
      "Obama'\n",
      "execut\n",
      "plan\n",
      "on\n",
      "gun\n"
     ]
    }
   ],
   "source": [
    "from nltk.stem.porter import PorterStemmer\n",
    "porter_stemmer = PorterStemmer()\n",
    "for word in test:\n",
    "    print porter_stemmer.stem(word)"
   ]
  },
  {
   "cell_type": "code",
   "execution_count": 33,
   "metadata": {},
   "outputs": [
    {
     "name": "stdout",
     "output_type": "stream",
     "text": [
      "question\n",
      "and\n",
      "answer\n",
      "about\n",
      "obama\n",
      "execut\n",
      "plan\n",
      "on\n",
      "gun\n"
     ]
    }
   ],
   "source": [
    "from nltk.stem import SnowballStemmer\n",
    "snowball_stemmer = SnowballStemmer('english')\n",
    "for word in test:\n",
    "    print snowball_stemmer.stem(word)"
   ]
  },
  {
   "cell_type": "code",
   "execution_count": 129,
   "metadata": {},
   "outputs": [],
   "source": [
    "#for all sentences, lemmatize, don't lowercase\n",
    "from nltk.stem import SnowballStemmer\n",
    "import nltk.data\n",
    "\n",
    "def stemming(sentence):\n",
    "    snowball_stemmer = SnowballStemmer('english')\n",
    "    new_sentence = []\n",
    "    for word in sentence:\n",
    "        new_sentence.append(snowball_stemmer.stem(word))\n",
    "    return new_sentence\n",
    "\n",
    "#just put title as part of article content\n",
    "def cleaned_articles(articles):\n",
    "    sent_detector = nltk.data.load('tokenizers/punkt/english.pickle')\n",
    "    articles_cleaned = []\n",
    "    for r in articles:\n",
    "        sentences = []\n",
    "        sentences.append(stemming(nltk.word_tokenize(r['title'])))\n",
    "        content_sentences = sent_detector.tokenize(r['content'])\n",
    "        for sentence in content_sentences:\n",
    "            sentences.append(stemming(nltk.word_tokenize(sentence)))\n",
    "        articles_cleaned.append(sentences)\n",
    "    return articles_cleaned"
   ]
  },
  {
   "cell_type": "code",
   "execution_count": null,
   "metadata": {},
   "outputs": [],
   "source": [
    ""
   ]
  },
  {
   "cell_type": "code",
   "execution_count": null,
   "metadata": {},
   "outputs": [],
   "source": [
    ""
   ]
  },
  {
   "cell_type": "code",
   "execution_count": 130,
   "metadata": {},
   "outputs": [],
   "source": [
    "cleaned = cleaned_articles(articles)"
   ]
  },
  {
   "cell_type": "code",
   "execution_count": 122,
   "metadata": {},
   "outputs": [],
   "source": [
    "tk = nltk.word_tokenize(csl[0][0])"
   ]
  },
  {
   "cell_type": "code",
   "execution_count": 123,
   "metadata": {},
   "outputs": [
    {
     "data": {
      "text/plain": [
       "[(u'WASHINGTON', 'NNP'),\n",
       " (u'(', '('),\n",
       " (u'AP', 'NNP'),\n",
       " (u')', ')'),\n",
       " (u'-', ':'),\n",
       " (u'President', 'NNP'),\n",
       " (u'Barack', 'NNP'),\n",
       " (u'Obama', 'NNP'),\n",
       " (u\"'s\", 'POS'),\n",
       " (u'plan', 'NN'),\n",
       " (u'to', 'TO'),\n",
       " (u'strengthen', 'VB'),\n",
       " (u'controls', 'NNS'),\n",
       " (u'on', 'IN'),\n",
       " (u'guns', 'NNS'),\n",
       " (u'in', 'IN'),\n",
       " (u'the', 'DT'),\n",
       " (u'U.S.', 'NNP'),\n",
       " (u'is', 'VBZ'),\n",
       " (u'meeting', 'VBG'),\n",
       " (u'swift', 'JJ'),\n",
       " (u'resistance', 'NN'),\n",
       " (u'from', 'IN'),\n",
       " (u'gun', 'NN'),\n",
       " (u'rights', 'NNS'),\n",
       " (u'groups', 'NNS'),\n",
       " (u',', ','),\n",
       " (u'Republicans', 'NNPS'),\n",
       " (u'and', 'CC'),\n",
       " (u'even', 'RB'),\n",
       " (u'a', 'DT'),\n",
       " (u'few', 'JJ'),\n",
       " (u'Democrats', 'NNPS'),\n",
       " (u'who', 'WP'),\n",
       " (u'say', 'VBP'),\n",
       " (u'it', 'PRP'),\n",
       " (u\"'s\", 'VBZ'),\n",
       " (u'up', 'RP'),\n",
       " (u'to', 'TO'),\n",
       " (u'Congress', 'NNP'),\n",
       " (u'to', 'TO'),\n",
       " (u'enact', 'VB'),\n",
       " (u'new', 'JJ'),\n",
       " (u'policies', 'NNS'),\n",
       " (u'on', 'IN'),\n",
       " (u'firearms', 'NNS'),\n",
       " (u'.', '.')]"
      ]
     },
     "execution_count": 123,
     "output_type": "execute_result",
     "metadata": {}
    }
   ],
   "source": [
    "# nltk.download()\n",
    "nltk.pos_tag(tk)"
   ]
  },
  {
   "cell_type": "markdown",
   "metadata": {},
   "source": [
    "### now do something with this"
   ]
  },
  {
   "cell_type": "code",
   "execution_count": 132,
   "metadata": {},
   "outputs": [],
   "source": [
    "#save to pickle and explore in new file\n",
    "#we have 206 sentences only\n",
    "import pickle\n",
    "pickle.dump(cleaned, open(\"cleaned_sentences_initial.p\", \"wb\"))"
   ]
  },
  {
   "cell_type": "code",
   "execution_count": null,
   "metadata": {},
   "outputs": [],
   "source": [
    ""
   ]
  },
  {
   "cell_type": "code",
   "execution_count": null,
   "metadata": {},
   "outputs": [],
   "source": [
    ""
   ]
  },
  {
   "cell_type": "code",
   "execution_count": null,
   "metadata": {},
   "outputs": [],
   "source": [
    ""
   ]
  },
  {
   "cell_type": "markdown",
   "metadata": {},
   "source": [
    "#### do some information gain stuff?"
   ]
  },
  {
   "cell_type": "code",
   "execution_count": null,
   "metadata": {},
   "outputs": [],
   "source": [
    ""
   ]
  }
 ],
 "metadata": {
  "kernelspec": {
   "display_name": "Python 2",
   "language": "python",
   "name": "python2"
  },
  "language_info": {
   "codemirror_mode": {
    "name": "ipython",
    "version": 2.0
   },
   "file_extension": ".py",
   "mimetype": "text/x-python",
   "name": "python",
   "nbconvert_exporter": "python",
   "pygments_lexer": "ipython2",
   "version": "2.7.11"
  }
 },
 "nbformat": 4,
 "nbformat_minor": 0
}